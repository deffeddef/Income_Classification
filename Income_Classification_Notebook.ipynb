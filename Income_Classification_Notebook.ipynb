{
 "cells": [
  {
   "cell_type": "code",
   "execution_count": 785,
   "metadata": {},
   "outputs": [],
   "source": [
    "import numpy as np\n",
    "import pandas as pd\n",
    "from sklearn.model_selection import train_test_split\n",
    "import category_encoders as ce\n",
    "from sklearn.preprocessing import MinMaxScaler\n",
    "from sklearn.linear_model import LogisticRegression\n",
    "from sklearn.metrics import accuracy_score, make_scorer, precision_score, matthews_corrcoef, recall_score,f1_score, log_loss\n",
    "from xgboost import XGBClassifier\n",
    "from sklearn.model_selection import RandomizedSearchCV\n",
    "from sklearn.model_selection import RepeatedStratifiedKFold\n",
    "from matplotlib import pyplot as plt\n",
    "import warnings"
   ]
  },
  {
   "cell_type": "markdown",
   "metadata": {},
   "source": [
    "# Data Import + EDA + Feature Engineering"
   ]
  },
  {
   "cell_type": "code",
   "execution_count": 786,
   "metadata": {},
   "outputs": [],
   "source": [
    "df = pd.read_csv('census_data.csv')"
   ]
  },
  {
   "cell_type": "code",
   "execution_count": 787,
   "metadata": {},
   "outputs": [
    {
     "data": {
      "text/html": [
       "<div>\n",
       "<style scoped>\n",
       "    .dataframe tbody tr th:only-of-type {\n",
       "        vertical-align: middle;\n",
       "    }\n",
       "\n",
       "    .dataframe tbody tr th {\n",
       "        vertical-align: top;\n",
       "    }\n",
       "\n",
       "    .dataframe thead th {\n",
       "        text-align: right;\n",
       "    }\n",
       "</style>\n",
       "<table border=\"1\" class=\"dataframe\">\n",
       "  <thead>\n",
       "    <tr style=\"text-align: right;\">\n",
       "      <th></th>\n",
       "      <th>age</th>\n",
       "      <th>workclass</th>\n",
       "      <th>fnlwgt</th>\n",
       "      <th>education</th>\n",
       "      <th>education_num</th>\n",
       "      <th>marital_status</th>\n",
       "      <th>occupation</th>\n",
       "      <th>relationship</th>\n",
       "      <th>race</th>\n",
       "      <th>sex</th>\n",
       "      <th>capital_gain</th>\n",
       "      <th>capital_loss</th>\n",
       "      <th>hours_per_week</th>\n",
       "      <th>native_country</th>\n",
       "      <th>income</th>\n",
       "    </tr>\n",
       "  </thead>\n",
       "  <tbody>\n",
       "    <tr>\n",
       "      <th>0</th>\n",
       "      <td>39</td>\n",
       "      <td>State-gov</td>\n",
       "      <td>77516</td>\n",
       "      <td>Bachelors</td>\n",
       "      <td>13</td>\n",
       "      <td>Never-married</td>\n",
       "      <td>Adm-clerical</td>\n",
       "      <td>Not-in-family</td>\n",
       "      <td>White</td>\n",
       "      <td>Male</td>\n",
       "      <td>2174</td>\n",
       "      <td>0</td>\n",
       "      <td>40</td>\n",
       "      <td>United-States</td>\n",
       "      <td>&lt;=50K</td>\n",
       "    </tr>\n",
       "    <tr>\n",
       "      <th>1</th>\n",
       "      <td>50</td>\n",
       "      <td>Self-emp-not-inc</td>\n",
       "      <td>83311</td>\n",
       "      <td>Bachelors</td>\n",
       "      <td>13</td>\n",
       "      <td>Married-civ-spouse</td>\n",
       "      <td>Exec-managerial</td>\n",
       "      <td>Husband</td>\n",
       "      <td>White</td>\n",
       "      <td>Male</td>\n",
       "      <td>0</td>\n",
       "      <td>0</td>\n",
       "      <td>13</td>\n",
       "      <td>United-States</td>\n",
       "      <td>&lt;=50K</td>\n",
       "    </tr>\n",
       "    <tr>\n",
       "      <th>2</th>\n",
       "      <td>38</td>\n",
       "      <td>Private</td>\n",
       "      <td>215646</td>\n",
       "      <td>HS-grad</td>\n",
       "      <td>9</td>\n",
       "      <td>Divorced</td>\n",
       "      <td>Handlers-cleaners</td>\n",
       "      <td>Not-in-family</td>\n",
       "      <td>White</td>\n",
       "      <td>Male</td>\n",
       "      <td>0</td>\n",
       "      <td>0</td>\n",
       "      <td>40</td>\n",
       "      <td>United-States</td>\n",
       "      <td>&lt;=50K</td>\n",
       "    </tr>\n",
       "    <tr>\n",
       "      <th>3</th>\n",
       "      <td>53</td>\n",
       "      <td>Private</td>\n",
       "      <td>234721</td>\n",
       "      <td>11th</td>\n",
       "      <td>7</td>\n",
       "      <td>Married-civ-spouse</td>\n",
       "      <td>Handlers-cleaners</td>\n",
       "      <td>Husband</td>\n",
       "      <td>Black</td>\n",
       "      <td>Male</td>\n",
       "      <td>0</td>\n",
       "      <td>0</td>\n",
       "      <td>40</td>\n",
       "      <td>United-States</td>\n",
       "      <td>&lt;=50K</td>\n",
       "    </tr>\n",
       "    <tr>\n",
       "      <th>4</th>\n",
       "      <td>28</td>\n",
       "      <td>Private</td>\n",
       "      <td>338409</td>\n",
       "      <td>Bachelors</td>\n",
       "      <td>13</td>\n",
       "      <td>Married-civ-spouse</td>\n",
       "      <td>Prof-specialty</td>\n",
       "      <td>Wife</td>\n",
       "      <td>Black</td>\n",
       "      <td>Female</td>\n",
       "      <td>0</td>\n",
       "      <td>0</td>\n",
       "      <td>40</td>\n",
       "      <td>Cuba</td>\n",
       "      <td>&lt;=50K</td>\n",
       "    </tr>\n",
       "    <tr>\n",
       "      <th>5</th>\n",
       "      <td>37</td>\n",
       "      <td>Private</td>\n",
       "      <td>284582</td>\n",
       "      <td>Masters</td>\n",
       "      <td>14</td>\n",
       "      <td>Married-civ-spouse</td>\n",
       "      <td>Exec-managerial</td>\n",
       "      <td>Wife</td>\n",
       "      <td>White</td>\n",
       "      <td>Female</td>\n",
       "      <td>0</td>\n",
       "      <td>0</td>\n",
       "      <td>40</td>\n",
       "      <td>United-States</td>\n",
       "      <td>&lt;=50K</td>\n",
       "    </tr>\n",
       "    <tr>\n",
       "      <th>6</th>\n",
       "      <td>49</td>\n",
       "      <td>Private</td>\n",
       "      <td>160187</td>\n",
       "      <td>9th</td>\n",
       "      <td>5</td>\n",
       "      <td>Married-spouse-absent</td>\n",
       "      <td>Other-service</td>\n",
       "      <td>Not-in-family</td>\n",
       "      <td>Black</td>\n",
       "      <td>Female</td>\n",
       "      <td>0</td>\n",
       "      <td>0</td>\n",
       "      <td>16</td>\n",
       "      <td>Jamaica</td>\n",
       "      <td>&lt;=50K</td>\n",
       "    </tr>\n",
       "    <tr>\n",
       "      <th>7</th>\n",
       "      <td>52</td>\n",
       "      <td>Self-emp-not-inc</td>\n",
       "      <td>209642</td>\n",
       "      <td>HS-grad</td>\n",
       "      <td>9</td>\n",
       "      <td>Married-civ-spouse</td>\n",
       "      <td>Exec-managerial</td>\n",
       "      <td>Husband</td>\n",
       "      <td>White</td>\n",
       "      <td>Male</td>\n",
       "      <td>0</td>\n",
       "      <td>0</td>\n",
       "      <td>45</td>\n",
       "      <td>United-States</td>\n",
       "      <td>&gt;50K</td>\n",
       "    </tr>\n",
       "    <tr>\n",
       "      <th>8</th>\n",
       "      <td>31</td>\n",
       "      <td>Private</td>\n",
       "      <td>45781</td>\n",
       "      <td>Masters</td>\n",
       "      <td>14</td>\n",
       "      <td>Never-married</td>\n",
       "      <td>Prof-specialty</td>\n",
       "      <td>Not-in-family</td>\n",
       "      <td>White</td>\n",
       "      <td>Female</td>\n",
       "      <td>14084</td>\n",
       "      <td>0</td>\n",
       "      <td>50</td>\n",
       "      <td>United-States</td>\n",
       "      <td>&gt;50K</td>\n",
       "    </tr>\n",
       "    <tr>\n",
       "      <th>9</th>\n",
       "      <td>42</td>\n",
       "      <td>Private</td>\n",
       "      <td>159449</td>\n",
       "      <td>Bachelors</td>\n",
       "      <td>13</td>\n",
       "      <td>Married-civ-spouse</td>\n",
       "      <td>Exec-managerial</td>\n",
       "      <td>Husband</td>\n",
       "      <td>White</td>\n",
       "      <td>Male</td>\n",
       "      <td>5178</td>\n",
       "      <td>0</td>\n",
       "      <td>40</td>\n",
       "      <td>United-States</td>\n",
       "      <td>&gt;50K</td>\n",
       "    </tr>\n",
       "  </tbody>\n",
       "</table>\n",
       "</div>"
      ],
      "text/plain": [
       "   age          workclass  fnlwgt   education  education_num  \\\n",
       "0   39          State-gov   77516   Bachelors             13   \n",
       "1   50   Self-emp-not-inc   83311   Bachelors             13   \n",
       "2   38            Private  215646     HS-grad              9   \n",
       "3   53            Private  234721        11th              7   \n",
       "4   28            Private  338409   Bachelors             13   \n",
       "5   37            Private  284582     Masters             14   \n",
       "6   49            Private  160187         9th              5   \n",
       "7   52   Self-emp-not-inc  209642     HS-grad              9   \n",
       "8   31            Private   45781     Masters             14   \n",
       "9   42            Private  159449   Bachelors             13   \n",
       "\n",
       "           marital_status          occupation    relationship    race  \\\n",
       "0           Never-married        Adm-clerical   Not-in-family   White   \n",
       "1      Married-civ-spouse     Exec-managerial         Husband   White   \n",
       "2                Divorced   Handlers-cleaners   Not-in-family   White   \n",
       "3      Married-civ-spouse   Handlers-cleaners         Husband   Black   \n",
       "4      Married-civ-spouse      Prof-specialty            Wife   Black   \n",
       "5      Married-civ-spouse     Exec-managerial            Wife   White   \n",
       "6   Married-spouse-absent       Other-service   Not-in-family   Black   \n",
       "7      Married-civ-spouse     Exec-managerial         Husband   White   \n",
       "8           Never-married      Prof-specialty   Not-in-family   White   \n",
       "9      Married-civ-spouse     Exec-managerial         Husband   White   \n",
       "\n",
       "       sex  capital_gain  capital_loss  hours_per_week  native_country  income  \n",
       "0     Male          2174             0              40   United-States   <=50K  \n",
       "1     Male             0             0              13   United-States   <=50K  \n",
       "2     Male             0             0              40   United-States   <=50K  \n",
       "3     Male             0             0              40   United-States   <=50K  \n",
       "4   Female             0             0              40            Cuba   <=50K  \n",
       "5   Female             0             0              40   United-States   <=50K  \n",
       "6   Female             0             0              16         Jamaica   <=50K  \n",
       "7     Male             0             0              45   United-States    >50K  \n",
       "8   Female         14084             0              50   United-States    >50K  \n",
       "9     Male          5178             0              40   United-States    >50K  "
      ]
     },
     "execution_count": 787,
     "metadata": {},
     "output_type": "execute_result"
    }
   ],
   "source": [
    "df.head(10)"
   ]
  },
  {
   "cell_type": "markdown",
   "metadata": {},
   "source": [
    "Based on the first eye test, we see that education_num and education seem to correlate perfectly. So let's drop education_num as it arbitrarily ordinally scales the data numerically. Instead, we will use leave one out target encoding on the education column."
   ]
  },
  {
   "cell_type": "code",
   "execution_count": 788,
   "metadata": {},
   "outputs": [],
   "source": [
    "df = df.drop('education_num', axis=1)"
   ]
  },
  {
   "cell_type": "code",
   "execution_count": 789,
   "metadata": {},
   "outputs": [
    {
     "data": {
      "text/html": [
       "<div>\n",
       "<style scoped>\n",
       "    .dataframe tbody tr th:only-of-type {\n",
       "        vertical-align: middle;\n",
       "    }\n",
       "\n",
       "    .dataframe tbody tr th {\n",
       "        vertical-align: top;\n",
       "    }\n",
       "\n",
       "    .dataframe thead th {\n",
       "        text-align: right;\n",
       "    }\n",
       "</style>\n",
       "<table border=\"1\" class=\"dataframe\">\n",
       "  <thead>\n",
       "    <tr style=\"text-align: right;\">\n",
       "      <th></th>\n",
       "      <th>age</th>\n",
       "      <th>fnlwgt</th>\n",
       "      <th>capital_gain</th>\n",
       "      <th>capital_loss</th>\n",
       "      <th>hours_per_week</th>\n",
       "    </tr>\n",
       "  </thead>\n",
       "  <tbody>\n",
       "    <tr>\n",
       "      <th>count</th>\n",
       "      <td>48842.00</td>\n",
       "      <td>48842.00</td>\n",
       "      <td>48842.00</td>\n",
       "      <td>48842.0</td>\n",
       "      <td>48842.00</td>\n",
       "    </tr>\n",
       "    <tr>\n",
       "      <th>mean</th>\n",
       "      <td>38.64</td>\n",
       "      <td>189664.13</td>\n",
       "      <td>1079.07</td>\n",
       "      <td>87.5</td>\n",
       "      <td>40.42</td>\n",
       "    </tr>\n",
       "    <tr>\n",
       "      <th>std</th>\n",
       "      <td>13.71</td>\n",
       "      <td>105604.03</td>\n",
       "      <td>7452.02</td>\n",
       "      <td>403.0</td>\n",
       "      <td>12.39</td>\n",
       "    </tr>\n",
       "    <tr>\n",
       "      <th>min</th>\n",
       "      <td>17.00</td>\n",
       "      <td>12285.00</td>\n",
       "      <td>0.00</td>\n",
       "      <td>0.0</td>\n",
       "      <td>1.00</td>\n",
       "    </tr>\n",
       "    <tr>\n",
       "      <th>25%</th>\n",
       "      <td>28.00</td>\n",
       "      <td>117550.50</td>\n",
       "      <td>0.00</td>\n",
       "      <td>0.0</td>\n",
       "      <td>40.00</td>\n",
       "    </tr>\n",
       "    <tr>\n",
       "      <th>50%</th>\n",
       "      <td>37.00</td>\n",
       "      <td>178144.50</td>\n",
       "      <td>0.00</td>\n",
       "      <td>0.0</td>\n",
       "      <td>40.00</td>\n",
       "    </tr>\n",
       "    <tr>\n",
       "      <th>75%</th>\n",
       "      <td>48.00</td>\n",
       "      <td>237642.00</td>\n",
       "      <td>0.00</td>\n",
       "      <td>0.0</td>\n",
       "      <td>45.00</td>\n",
       "    </tr>\n",
       "    <tr>\n",
       "      <th>max</th>\n",
       "      <td>90.00</td>\n",
       "      <td>1490400.00</td>\n",
       "      <td>99999.00</td>\n",
       "      <td>4356.0</td>\n",
       "      <td>99.00</td>\n",
       "    </tr>\n",
       "  </tbody>\n",
       "</table>\n",
       "</div>"
      ],
      "text/plain": [
       "            age      fnlwgt  capital_gain  capital_loss  hours_per_week\n",
       "count  48842.00    48842.00      48842.00       48842.0        48842.00\n",
       "mean      38.64   189664.13       1079.07          87.5           40.42\n",
       "std       13.71   105604.03       7452.02         403.0           12.39\n",
       "min       17.00    12285.00          0.00           0.0            1.00\n",
       "25%       28.00   117550.50          0.00           0.0           40.00\n",
       "50%       37.00   178144.50          0.00           0.0           40.00\n",
       "75%       48.00   237642.00          0.00           0.0           45.00\n",
       "max       90.00  1490400.00      99999.00        4356.0           99.00"
      ]
     },
     "execution_count": 789,
     "metadata": {},
     "output_type": "execute_result"
    }
   ],
   "source": [
    "round(df.describe(),2)"
   ]
  },
  {
   "cell_type": "markdown",
   "metadata": {},
   "source": [
    "Let's perform a basic check for NaN values, which we would have to either drop or impute, if existing."
   ]
  },
  {
   "cell_type": "code",
   "execution_count": 790,
   "metadata": {},
   "outputs": [
    {
     "data": {
      "text/plain": [
       "age               0\n",
       "workclass         0\n",
       "fnlwgt            0\n",
       "education         0\n",
       "marital_status    0\n",
       "occupation        0\n",
       "relationship      0\n",
       "race              0\n",
       "sex               0\n",
       "capital_gain      0\n",
       "capital_loss      0\n",
       "hours_per_week    0\n",
       "native_country    0\n",
       "income            0\n",
       "dtype: int64"
      ]
     },
     "execution_count": 790,
     "metadata": {},
     "output_type": "execute_result"
    }
   ],
   "source": [
    "df.isna().sum()"
   ]
  },
  {
   "cell_type": "markdown",
   "metadata": {},
   "source": [
    "When checking the target feature, income, we see that for each value we actually have two values, one with a period and one without. So let's remove it, so that we have two unique values."
   ]
  },
  {
   "cell_type": "code",
   "execution_count": 791,
   "metadata": {},
   "outputs": [
    {
     "data": {
      "text/plain": [
       " <=50K     24720\n",
       " <=50K.    12435\n",
       " >50K       7841\n",
       " >50K.      3846\n",
       "Name: income, dtype: int64"
      ]
     },
     "execution_count": 791,
     "metadata": {},
     "output_type": "execute_result"
    }
   ],
   "source": [
    "df['income'].value_counts()"
   ]
  },
  {
   "cell_type": "code",
   "execution_count": 792,
   "metadata": {},
   "outputs": [],
   "source": [
    "df['income'] = df['income'].str.strip('.')"
   ]
  },
  {
   "cell_type": "markdown",
   "metadata": {},
   "source": [
    "While we are at, let us also look at the distribution of our target feature, which is roughly 75/25 split. This can serve as a first baseline for a model, meaning our model must perform better than 76.1% accuracy to be viable."
   ]
  },
  {
   "cell_type": "code",
   "execution_count": 793,
   "metadata": {},
   "outputs": [
    {
     "data": {
      "text/plain": [
       " <=50K    76.1\n",
       " >50K     23.9\n",
       "Name: income, dtype: float64"
      ]
     },
     "execution_count": 793,
     "metadata": {},
     "output_type": "execute_result"
    }
   ],
   "source": [
    "round(df['income'].value_counts(normalize=True)*100,1)"
   ]
  },
  {
   "cell_type": "markdown",
   "metadata": {},
   "source": [
    "Let's also convert our target feature from a string into a binary 0/1 integer representation."
   ]
  },
  {
   "cell_type": "code",
   "execution_count": 794,
   "metadata": {},
   "outputs": [],
   "source": [
    "df['income'] = df['income'].str.replace('>50K', '1')\n",
    "df['income'] = df['income'].str.replace('<=50K', '0')\n",
    "df['income'] = df['income'].astype(int)"
   ]
  },
  {
   "cell_type": "code",
   "execution_count": 795,
   "metadata": {},
   "outputs": [
    {
     "data": {
      "text/plain": [
       "0    37155\n",
       "1    11687\n",
       "Name: income, dtype: int64"
      ]
     },
     "execution_count": 795,
     "metadata": {},
     "output_type": "execute_result"
    }
   ],
   "source": [
    "df['income'].value_counts()"
   ]
  },
  {
   "cell_type": "markdown",
   "metadata": {},
   "source": [
    "In order to reduce dimensionality, let's bring together capital gain and loss, by substracting the losses from the gain to create net profit."
   ]
  },
  {
   "cell_type": "code",
   "execution_count": 796,
   "metadata": {},
   "outputs": [],
   "source": [
    "df['net_capital_profit'] = df['capital_gain'] - df['capital_loss']\n",
    "df = df.drop(['capital_loss', 'capital_gain'], axis=1)"
   ]
  },
  {
   "cell_type": "markdown",
   "metadata": {},
   "source": [
    "Next, let's plot some of our continuous features to look at their distribution and potential outliers"
   ]
  },
  {
   "cell_type": "code",
   "execution_count": 797,
   "metadata": {},
   "outputs": [
    {
     "data": {
      "text/plain": [
       "<AxesSubplot:>"
      ]
     },
     "execution_count": 797,
     "metadata": {},
     "output_type": "execute_result"
    },
    {
     "data": {
      "image/png": "[encoded data removed]",
      "text/plain": [
       "<Figure size 432x288 with 1 Axes>"
      ]
     },
     "metadata": {
      "needs_background": "light"
     },
     "output_type": "display_data"
    }
   ],
   "source": [
    "df['age'].hist(bins=100)"
   ]
  },
  {
   "cell_type": "code",
   "execution_count": 798,
   "metadata": {},
   "outputs": [
    {
     "data": {
      "text/plain": [
       "<AxesSubplot:>"
      ]
     },
     "execution_count": 798,
     "metadata": {},
     "output_type": "execute_result"
    },
    {
     "data": {
      "image/png": "[encoded data removed]",
      "text/plain": [
       "<Figure size 432x288 with 1 Axes>"
      ]
     },
     "metadata": {
      "needs_background": "light"
     },
     "output_type": "display_data"
    }
   ],
   "source": [
    "df['fnlwgt'].hist(bins=50)"
   ]
  },
  {
   "cell_type": "markdown",
   "metadata": {},
   "source": [
    "Our new net profit feature looks quite sparse, so let's convert it into a categorical feature to reduce some noise, by denoting all negative cases with -1, all cases with 0 profit with 0 and all cases with actual profit with 1."
   ]
  },
  {
   "cell_type": "code",
   "execution_count": 799,
   "metadata": {},
   "outputs": [
    {
     "data": {
      "text/plain": [
       "<AxesSubplot:>"
      ]
     },
     "execution_count": 799,
     "metadata": {},
     "output_type": "execute_result"
    },
    {
     "data": {
      "image/png": "[encoded data removed]",
      "text/plain": [
       "<Figure size 432x288 with 1 Axes>"
      ]
     },
     "metadata": {
      "needs_background": "light"
     },
     "output_type": "display_data"
    }
   ],
   "source": [
    "df['net_capital_profit'].hist(bins=50)"
   ]
  },
  {
   "cell_type": "code",
   "execution_count": 800,
   "metadata": {},
   "outputs": [],
   "source": [
    "df.loc[df['net_capital_profit'] < 0, 'net_capital_profit'] = -1\n",
    "df.loc[df['net_capital_profit'] == 0, 'net_capital_profit'] = 0\n",
    "df.loc[df['net_capital_profit'] > 0, 'net_capital_profit'] = 1"
   ]
  },
  {
   "cell_type": "markdown",
   "metadata": {},
   "source": [
    "Next, we we split the data into train/test sets after shuffling it. We stratify by income to ensure an equal distribution in both training and test set. Use stratification only if you have a decent understanding of your data."
   ]
  },
  {
   "cell_type": "markdown",
   "metadata": {},
   "source": [
    "# Train/Test Split + Feature Encoding/Scaling"
   ]
  },
  {
   "cell_type": "code",
   "execution_count": 801,
   "metadata": {},
   "outputs": [],
   "source": [
    "df = df.sample(frac=1) # shuffle data\n",
    "X_train, X_test, y_train, y_test = train_test_split(df.drop('income', axis=1), df['income'], test_size=0.33, stratify=df['income'],random_state=42)"
   ]
  },
  {
   "cell_type": "markdown",
   "metadata": {},
   "source": [
    "In order to encode categorical features and  scale numerical ones, we need to define them in a list."
   ]
  },
  {
   "cell_type": "code",
   "execution_count": 802,
   "metadata": {},
   "outputs": [],
   "source": [
    "cat_cols = ['native_country', 'sex', 'race', \n",
    "            'relationship', 'occupation', 'marital_status', \n",
    "            'education', 'workclass', 'net_capital_profit']\n",
    "\n",
    "num_cols = ['age', 'fnlwgt', 'hours_per_week']"
   ]
  },
  {
   "cell_type": "markdown",
   "metadata": {},
   "source": [
    "to encode categorical features we use a leave one out encoder.\n",
    "\n",
    "Leave-one-out encoding (LOO or LOOE) is an example of target-based encoding—it prevents target data leakage, unlike other target-based methods. As its name suggests, the method consists of calculating the mean target of a given category k for observation j without using the corresponding target of j.\n",
    "\n",
    "Source: https://heartbeat.fritz.ai/hands-on-with-feature-engineering-advanced-methods-in-python-for-machine-learning-e05bf12da06a\n",
    "\n",
    "We fit the encoder on our training data only and apply the transformation of the test data based on this, so no 'cheating' occurs."
   ]
  },
  {
   "cell_type": "code",
   "execution_count": 803,
   "metadata": {},
   "outputs": [
    {
     "name": "stderr",
     "output_type": "stream",
     "text": [
      "/usr/local/anaconda3/lib/python3.8/site-packages/category_encoders/utils.py:21: FutureWarning: is_categorical is deprecated and will be removed in a future version.  Use is_categorical_dtype instead\n",
      "  elif pd.api.types.is_categorical(cols):\n"
     ]
    },
    {
     "data": {
      "text/plain": [
       "LeaveOneOutEncoder(cols=['native_country', 'sex', 'race', 'relationship',\n",
       "                         'occupation', 'marital_status', 'education',\n",
       "                         'workclass', 'net_capital_profit'],\n",
       "                   drop_invariant=True)"
      ]
     },
     "execution_count": 803,
     "metadata": {},
     "output_type": "execute_result"
    }
   ],
   "source": [
    "loo = ce.LeaveOneOutEncoder(cols=cat_cols, drop_invariant=True)\n",
    "loo.fit(X_train, y_train)"
   ]
  },
  {
   "cell_type": "code",
   "execution_count": 804,
   "metadata": {},
   "outputs": [],
   "source": [
    "X_train = loo.transform(X_train)\n",
    "X_test = loo.transform(X_test)"
   ]
  },
  {
   "cell_type": "markdown",
   "metadata": {},
   "source": [
    "We also scale our numerical data between 0 and 1, because some algorithms have difficulties dealing with differently scaled data.\n",
    "\n",
    "Again, the scaling of the test data occurs based on the train data only."
   ]
  },
  {
   "cell_type": "code",
   "execution_count": 805,
   "metadata": {},
   "outputs": [
    {
     "data": {
      "text/plain": [
       "MinMaxScaler()"
      ]
     },
     "execution_count": 805,
     "metadata": {},
     "output_type": "execute_result"
    }
   ],
   "source": [
    "mms = MinMaxScaler()\n",
    "mms.fit(X_train[num_cols])"
   ]
  },
  {
   "cell_type": "code",
   "execution_count": 806,
   "metadata": {},
   "outputs": [],
   "source": [
    "X_train[num_cols] = mms.transform(X_train[num_cols])\n",
    "X_test[num_cols] = mms.transform(X_test[num_cols])"
   ]
  },
  {
   "cell_type": "markdown",
   "metadata": {},
   "source": [
    "# Additional Analysis"
   ]
  },
  {
   "cell_type": "markdown",
   "metadata": {},
   "source": [
    "Let us check if everything worked out."
   ]
  },
  {
   "cell_type": "code",
   "execution_count": 807,
   "metadata": {},
   "outputs": [
    {
     "data": {
      "text/html": [
       "<div>\n",
       "<style scoped>\n",
       "    .dataframe tbody tr th:only-of-type {\n",
       "        vertical-align: middle;\n",
       "    }\n",
       "\n",
       "    .dataframe tbody tr th {\n",
       "        vertical-align: top;\n",
       "    }\n",
       "\n",
       "    .dataframe thead th {\n",
       "        text-align: right;\n",
       "    }\n",
       "</style>\n",
       "<table border=\"1\" class=\"dataframe\">\n",
       "  <thead>\n",
       "    <tr style=\"text-align: right;\">\n",
       "      <th></th>\n",
       "      <th>age</th>\n",
       "      <th>workclass</th>\n",
       "      <th>fnlwgt</th>\n",
       "      <th>education</th>\n",
       "      <th>marital_status</th>\n",
       "      <th>occupation</th>\n",
       "      <th>relationship</th>\n",
       "      <th>race</th>\n",
       "      <th>sex</th>\n",
       "      <th>hours_per_week</th>\n",
       "      <th>native_country</th>\n",
       "      <th>net_capital_profit</th>\n",
       "    </tr>\n",
       "  </thead>\n",
       "  <tbody>\n",
       "    <tr>\n",
       "      <th>27086</th>\n",
       "      <td>0.027397</td>\n",
       "      <td>0.097364</td>\n",
       "      <td>0.086803</td>\n",
       "      <td>0.078161</td>\n",
       "      <td>0.044475</td>\n",
       "      <td>0.096895</td>\n",
       "      <td>0.014317</td>\n",
       "      <td>0.121990</td>\n",
       "      <td>0.30311</td>\n",
       "      <td>0.295918</td>\n",
       "      <td>0.244372</td>\n",
       "      <td>0.190628</td>\n",
       "    </tr>\n",
       "    <tr>\n",
       "      <th>4773</th>\n",
       "      <td>0.369863</td>\n",
       "      <td>0.277454</td>\n",
       "      <td>0.010119</td>\n",
       "      <td>0.190502</td>\n",
       "      <td>0.044475</td>\n",
       "      <td>0.115194</td>\n",
       "      <td>0.014317</td>\n",
       "      <td>0.254148</td>\n",
       "      <td>0.30311</td>\n",
       "      <td>0.602041</td>\n",
       "      <td>0.244372</td>\n",
       "      <td>0.190628</td>\n",
       "    </tr>\n",
       "    <tr>\n",
       "      <th>19641</th>\n",
       "      <td>0.109589</td>\n",
       "      <td>0.217483</td>\n",
       "      <td>0.131461</td>\n",
       "      <td>0.069401</td>\n",
       "      <td>0.044475</td>\n",
       "      <td>0.043412</td>\n",
       "      <td>0.102185</td>\n",
       "      <td>0.254148</td>\n",
       "      <td>0.30311</td>\n",
       "      <td>0.234694</td>\n",
       "      <td>0.032258</td>\n",
       "      <td>0.190628</td>\n",
       "    </tr>\n",
       "    <tr>\n",
       "      <th>15545</th>\n",
       "      <td>0.493151</td>\n",
       "      <td>0.217483</td>\n",
       "      <td>0.167660</td>\n",
       "      <td>0.158418</td>\n",
       "      <td>0.089197</td>\n",
       "      <td>0.261450</td>\n",
       "      <td>0.102185</td>\n",
       "      <td>0.254148</td>\n",
       "      <td>0.10965</td>\n",
       "      <td>0.295918</td>\n",
       "      <td>0.244372</td>\n",
       "      <td>0.190628</td>\n",
       "    </tr>\n",
       "    <tr>\n",
       "      <th>32423</th>\n",
       "      <td>0.602740</td>\n",
       "      <td>0.217483</td>\n",
       "      <td>0.058514</td>\n",
       "      <td>0.050707</td>\n",
       "      <td>0.089197</td>\n",
       "      <td>0.060914</td>\n",
       "      <td>0.102185</td>\n",
       "      <td>0.254148</td>\n",
       "      <td>0.10965</td>\n",
       "      <td>0.295918</td>\n",
       "      <td>0.244372</td>\n",
       "      <td>0.190628</td>\n",
       "    </tr>\n",
       "  </tbody>\n",
       "</table>\n",
       "</div>"
      ],
      "text/plain": [
       "            age  workclass    fnlwgt  education  marital_status  occupation  \\\n",
       "27086  0.027397   0.097364  0.086803   0.078161        0.044475    0.096895   \n",
       "4773   0.369863   0.277454  0.010119   0.190502        0.044475    0.115194   \n",
       "19641  0.109589   0.217483  0.131461   0.069401        0.044475    0.043412   \n",
       "15545  0.493151   0.217483  0.167660   0.158418        0.089197    0.261450   \n",
       "32423  0.602740   0.217483  0.058514   0.050707        0.089197    0.060914   \n",
       "\n",
       "       relationship      race      sex  hours_per_week  native_country  \\\n",
       "27086      0.014317  0.121990  0.30311        0.295918        0.244372   \n",
       "4773       0.014317  0.254148  0.30311        0.602041        0.244372   \n",
       "19641      0.102185  0.254148  0.30311        0.234694        0.032258   \n",
       "15545      0.102185  0.254148  0.10965        0.295918        0.244372   \n",
       "32423      0.102185  0.254148  0.10965        0.295918        0.244372   \n",
       "\n",
       "       net_capital_profit  \n",
       "27086            0.190628  \n",
       "4773             0.190628  \n",
       "19641            0.190628  \n",
       "15545            0.190628  \n",
       "32423            0.190628  "
      ]
     },
     "execution_count": 807,
     "metadata": {},
     "output_type": "execute_result"
    }
   ],
   "source": [
    "X_train.head()"
   ]
  },
  {
   "cell_type": "markdown",
   "metadata": {},
   "source": [
    "Also, now that all our data is numerical, we should look at the correlation matrix. After examination, we notice that there is a 97% correlation between 'marital_status' and 'relationship', which kind of makes sense. So in order to avoid multicollinearity, let us engineer a new feature by adding their values and then divide the result by 2 for each row, so basically the mean value."
   ]
  },
  {
   "cell_type": "code",
   "execution_count": 808,
   "metadata": {},
   "outputs": [
    {
     "data": {
      "text/html": [
       "<div>\n",
       "<style scoped>\n",
       "    .dataframe tbody tr th:only-of-type {\n",
       "        vertical-align: middle;\n",
       "    }\n",
       "\n",
       "    .dataframe tbody tr th {\n",
       "        vertical-align: top;\n",
       "    }\n",
       "\n",
       "    .dataframe thead th {\n",
       "        text-align: right;\n",
       "    }\n",
       "</style>\n",
       "<table border=\"1\" class=\"dataframe\">\n",
       "  <thead>\n",
       "    <tr style=\"text-align: right;\">\n",
       "      <th></th>\n",
       "      <th>age</th>\n",
       "      <th>workclass</th>\n",
       "      <th>fnlwgt</th>\n",
       "      <th>education</th>\n",
       "      <th>marital_status</th>\n",
       "      <th>occupation</th>\n",
       "      <th>relationship</th>\n",
       "      <th>race</th>\n",
       "      <th>sex</th>\n",
       "      <th>hours_per_week</th>\n",
       "      <th>native_country</th>\n",
       "      <th>net_capital_profit</th>\n",
       "    </tr>\n",
       "  </thead>\n",
       "  <tbody>\n",
       "    <tr>\n",
       "      <th>age</th>\n",
       "      <td>1.000000</td>\n",
       "      <td>0.133763</td>\n",
       "      <td>-0.073763</td>\n",
       "      <td>0.108136</td>\n",
       "      <td>0.360049</td>\n",
       "      <td>0.131910</td>\n",
       "      <td>0.362806</td>\n",
       "      <td>0.032260</td>\n",
       "      <td>0.092846</td>\n",
       "      <td>0.070339</td>\n",
       "      <td>0.053853</td>\n",
       "      <td>0.134956</td>\n",
       "    </tr>\n",
       "    <tr>\n",
       "      <th>workclass</th>\n",
       "      <td>0.133763</td>\n",
       "      <td>1.000000</td>\n",
       "      <td>-0.026269</td>\n",
       "      <td>0.168474</td>\n",
       "      <td>0.151442</td>\n",
       "      <td>0.266650</td>\n",
       "      <td>0.156412</td>\n",
       "      <td>0.026703</td>\n",
       "      <td>0.101527</td>\n",
       "      <td>0.187924</td>\n",
       "      <td>0.040049</td>\n",
       "      <td>0.084035</td>\n",
       "    </tr>\n",
       "    <tr>\n",
       "      <th>fnlwgt</th>\n",
       "      <td>-0.073763</td>\n",
       "      <td>-0.026269</td>\n",
       "      <td>1.000000</td>\n",
       "      <td>-0.023214</td>\n",
       "      <td>-0.034164</td>\n",
       "      <td>-0.013196</td>\n",
       "      <td>-0.034547</td>\n",
       "      <td>-0.101502</td>\n",
       "      <td>0.028440</td>\n",
       "      <td>-0.010110</td>\n",
       "      <td>-0.113068</td>\n",
       "      <td>-0.008343</td>\n",
       "    </tr>\n",
       "    <tr>\n",
       "      <th>education</th>\n",
       "      <td>0.108136</td>\n",
       "      <td>0.168474</td>\n",
       "      <td>-0.023214</td>\n",
       "      <td>1.000000</td>\n",
       "      <td>0.123768</td>\n",
       "      <td>0.515464</td>\n",
       "      <td>0.147532</td>\n",
       "      <td>0.098380</td>\n",
       "      <td>0.039410</td>\n",
       "      <td>0.164079</td>\n",
       "      <td>0.159870</td>\n",
       "      <td>0.165288</td>\n",
       "    </tr>\n",
       "    <tr>\n",
       "      <th>marital_status</th>\n",
       "      <td>0.360049</td>\n",
       "      <td>0.151442</td>\n",
       "      <td>-0.034164</td>\n",
       "      <td>0.123768</td>\n",
       "      <td>1.000000</td>\n",
       "      <td>0.188513</td>\n",
       "      <td>0.970078</td>\n",
       "      <td>0.122706</td>\n",
       "      <td>0.417003</td>\n",
       "      <td>0.221984</td>\n",
       "      <td>0.029782</td>\n",
       "      <td>0.145812</td>\n",
       "    </tr>\n",
       "    <tr>\n",
       "      <th>occupation</th>\n",
       "      <td>0.131910</td>\n",
       "      <td>0.266650</td>\n",
       "      <td>-0.013196</td>\n",
       "      <td>0.515464</td>\n",
       "      <td>0.188513</td>\n",
       "      <td>1.000000</td>\n",
       "      <td>0.206745</td>\n",
       "      <td>0.105885</td>\n",
       "      <td>0.089074</td>\n",
       "      <td>0.212351</td>\n",
       "      <td>0.119067</td>\n",
       "      <td>0.142269</td>\n",
       "    </tr>\n",
       "    <tr>\n",
       "      <th>relationship</th>\n",
       "      <td>0.362806</td>\n",
       "      <td>0.156412</td>\n",
       "      <td>-0.034547</td>\n",
       "      <td>0.147532</td>\n",
       "      <td>0.970078</td>\n",
       "      <td>0.206745</td>\n",
       "      <td>1.000000</td>\n",
       "      <td>0.124070</td>\n",
       "      <td>0.420527</td>\n",
       "      <td>0.237619</td>\n",
       "      <td>0.035835</td>\n",
       "      <td>0.150347</td>\n",
       "    </tr>\n",
       "    <tr>\n",
       "      <th>race</th>\n",
       "      <td>0.032260</td>\n",
       "      <td>0.026703</td>\n",
       "      <td>-0.101502</td>\n",
       "      <td>0.098380</td>\n",
       "      <td>0.122706</td>\n",
       "      <td>0.105885</td>\n",
       "      <td>0.124070</td>\n",
       "      <td>1.000000</td>\n",
       "      <td>0.110212</td>\n",
       "      <td>0.044440</td>\n",
       "      <td>0.052856</td>\n",
       "      <td>0.037439</td>\n",
       "    </tr>\n",
       "    <tr>\n",
       "      <th>sex</th>\n",
       "      <td>0.092846</td>\n",
       "      <td>0.101527</td>\n",
       "      <td>0.028440</td>\n",
       "      <td>0.039410</td>\n",
       "      <td>0.417003</td>\n",
       "      <td>0.089074</td>\n",
       "      <td>0.420527</td>\n",
       "      <td>0.110212</td>\n",
       "      <td>1.000000</td>\n",
       "      <td>0.224488</td>\n",
       "      <td>0.002046</td>\n",
       "      <td>0.073878</td>\n",
       "    </tr>\n",
       "    <tr>\n",
       "      <th>hours_per_week</th>\n",
       "      <td>0.070339</td>\n",
       "      <td>0.187924</td>\n",
       "      <td>-0.010110</td>\n",
       "      <td>0.164079</td>\n",
       "      <td>0.221984</td>\n",
       "      <td>0.212351</td>\n",
       "      <td>0.237619</td>\n",
       "      <td>0.044440</td>\n",
       "      <td>0.224488</td>\n",
       "      <td>1.000000</td>\n",
       "      <td>0.017591</td>\n",
       "      <td>0.092198</td>\n",
       "    </tr>\n",
       "    <tr>\n",
       "      <th>native_country</th>\n",
       "      <td>0.053853</td>\n",
       "      <td>0.040049</td>\n",
       "      <td>-0.113068</td>\n",
       "      <td>0.159870</td>\n",
       "      <td>0.029782</td>\n",
       "      <td>0.119067</td>\n",
       "      <td>0.035835</td>\n",
       "      <td>0.052856</td>\n",
       "      <td>0.002046</td>\n",
       "      <td>0.017591</td>\n",
       "      <td>1.000000</td>\n",
       "      <td>0.040249</td>\n",
       "    </tr>\n",
       "    <tr>\n",
       "      <th>net_capital_profit</th>\n",
       "      <td>0.134956</td>\n",
       "      <td>0.084035</td>\n",
       "      <td>-0.008343</td>\n",
       "      <td>0.165288</td>\n",
       "      <td>0.145812</td>\n",
       "      <td>0.142269</td>\n",
       "      <td>0.150347</td>\n",
       "      <td>0.037439</td>\n",
       "      <td>0.073878</td>\n",
       "      <td>0.092198</td>\n",
       "      <td>0.040249</td>\n",
       "      <td>1.000000</td>\n",
       "    </tr>\n",
       "  </tbody>\n",
       "</table>\n",
       "</div>"
      ],
      "text/plain": [
       "                         age  workclass    fnlwgt  education  marital_status  \\\n",
       "age                 1.000000   0.133763 -0.073763   0.108136        0.360049   \n",
       "workclass           0.133763   1.000000 -0.026269   0.168474        0.151442   \n",
       "fnlwgt             -0.073763  -0.026269  1.000000  -0.023214       -0.034164   \n",
       "education           0.108136   0.168474 -0.023214   1.000000        0.123768   \n",
       "marital_status      0.360049   0.151442 -0.034164   0.123768        1.000000   \n",
       "occupation          0.131910   0.266650 -0.013196   0.515464        0.188513   \n",
       "relationship        0.362806   0.156412 -0.034547   0.147532        0.970078   \n",
       "race                0.032260   0.026703 -0.101502   0.098380        0.122706   \n",
       "sex                 0.092846   0.101527  0.028440   0.039410        0.417003   \n",
       "hours_per_week      0.070339   0.187924 -0.010110   0.164079        0.221984   \n",
       "native_country      0.053853   0.040049 -0.113068   0.159870        0.029782   \n",
       "net_capital_profit  0.134956   0.084035 -0.008343   0.165288        0.145812   \n",
       "\n",
       "                    occupation  relationship      race       sex  \\\n",
       "age                   0.131910      0.362806  0.032260  0.092846   \n",
       "workclass             0.266650      0.156412  0.026703  0.101527   \n",
       "fnlwgt               -0.013196     -0.034547 -0.101502  0.028440   \n",
       "education             0.515464      0.147532  0.098380  0.039410   \n",
       "marital_status        0.188513      0.970078  0.122706  0.417003   \n",
       "occupation            1.000000      0.206745  0.105885  0.089074   \n",
       "relationship          0.206745      1.000000  0.124070  0.420527   \n",
       "race                  0.105885      0.124070  1.000000  0.110212   \n",
       "sex                   0.089074      0.420527  0.110212  1.000000   \n",
       "hours_per_week        0.212351      0.237619  0.044440  0.224488   \n",
       "native_country        0.119067      0.035835  0.052856  0.002046   \n",
       "net_capital_profit    0.142269      0.150347  0.037439  0.073878   \n",
       "\n",
       "                    hours_per_week  native_country  net_capital_profit  \n",
       "age                       0.070339        0.053853            0.134956  \n",
       "workclass                 0.187924        0.040049            0.084035  \n",
       "fnlwgt                   -0.010110       -0.113068           -0.008343  \n",
       "education                 0.164079        0.159870            0.165288  \n",
       "marital_status            0.221984        0.029782            0.145812  \n",
       "occupation                0.212351        0.119067            0.142269  \n",
       "relationship              0.237619        0.035835            0.150347  \n",
       "race                      0.044440        0.052856            0.037439  \n",
       "sex                       0.224488        0.002046            0.073878  \n",
       "hours_per_week            1.000000        0.017591            0.092198  \n",
       "native_country            0.017591        1.000000            0.040249  \n",
       "net_capital_profit        0.092198        0.040249            1.000000  "
      ]
     },
     "execution_count": 808,
     "metadata": {},
     "output_type": "execute_result"
    }
   ],
   "source": [
    "X_train.corr()"
   ]
  },
  {
   "cell_type": "code",
   "execution_count": 809,
   "metadata": {},
   "outputs": [],
   "source": [
    "X_train['relation_marital'] = (X_train['marital_status'] + X_train['relationship'])/2\n",
    "X_train = X_train.drop(['relationship', 'marital_status'], axis=1)\n",
    "\n",
    "X_test['relation_marital'] = (X_test['marital_status'] + X_test['relationship'])/2\n",
    "X_test = X_test.drop(['relationship', 'marital_status'], axis=1)"
   ]
  },
  {
   "cell_type": "code",
   "execution_count": 810,
   "metadata": {},
   "outputs": [
    {
     "data": {
      "text/html": [
       "<div>\n",
       "<style scoped>\n",
       "    .dataframe tbody tr th:only-of-type {\n",
       "        vertical-align: middle;\n",
       "    }\n",
       "\n",
       "    .dataframe tbody tr th {\n",
       "        vertical-align: top;\n",
       "    }\n",
       "\n",
       "    .dataframe thead th {\n",
       "        text-align: right;\n",
       "    }\n",
       "</style>\n",
       "<table border=\"1\" class=\"dataframe\">\n",
       "  <thead>\n",
       "    <tr style=\"text-align: right;\">\n",
       "      <th></th>\n",
       "      <th>age</th>\n",
       "      <th>workclass</th>\n",
       "      <th>fnlwgt</th>\n",
       "      <th>education</th>\n",
       "      <th>occupation</th>\n",
       "      <th>race</th>\n",
       "      <th>sex</th>\n",
       "      <th>hours_per_week</th>\n",
       "      <th>native_country</th>\n",
       "      <th>net_capital_profit</th>\n",
       "      <th>relation_marital</th>\n",
       "    </tr>\n",
       "  </thead>\n",
       "  <tbody>\n",
       "    <tr>\n",
       "      <th>27086</th>\n",
       "      <td>0.027397</td>\n",
       "      <td>0.097364</td>\n",
       "      <td>0.086803</td>\n",
       "      <td>0.078161</td>\n",
       "      <td>0.096895</td>\n",
       "      <td>0.121990</td>\n",
       "      <td>0.30311</td>\n",
       "      <td>0.295918</td>\n",
       "      <td>0.244372</td>\n",
       "      <td>0.190628</td>\n",
       "      <td>0.029396</td>\n",
       "    </tr>\n",
       "    <tr>\n",
       "      <th>4773</th>\n",
       "      <td>0.369863</td>\n",
       "      <td>0.277454</td>\n",
       "      <td>0.010119</td>\n",
       "      <td>0.190502</td>\n",
       "      <td>0.115194</td>\n",
       "      <td>0.254148</td>\n",
       "      <td>0.30311</td>\n",
       "      <td>0.602041</td>\n",
       "      <td>0.244372</td>\n",
       "      <td>0.190628</td>\n",
       "      <td>0.029396</td>\n",
       "    </tr>\n",
       "    <tr>\n",
       "      <th>19641</th>\n",
       "      <td>0.109589</td>\n",
       "      <td>0.217483</td>\n",
       "      <td>0.131461</td>\n",
       "      <td>0.069401</td>\n",
       "      <td>0.043412</td>\n",
       "      <td>0.254148</td>\n",
       "      <td>0.30311</td>\n",
       "      <td>0.234694</td>\n",
       "      <td>0.032258</td>\n",
       "      <td>0.190628</td>\n",
       "      <td>0.073330</td>\n",
       "    </tr>\n",
       "    <tr>\n",
       "      <th>15545</th>\n",
       "      <td>0.493151</td>\n",
       "      <td>0.217483</td>\n",
       "      <td>0.167660</td>\n",
       "      <td>0.158418</td>\n",
       "      <td>0.261450</td>\n",
       "      <td>0.254148</td>\n",
       "      <td>0.10965</td>\n",
       "      <td>0.295918</td>\n",
       "      <td>0.244372</td>\n",
       "      <td>0.190628</td>\n",
       "      <td>0.095691</td>\n",
       "    </tr>\n",
       "    <tr>\n",
       "      <th>32423</th>\n",
       "      <td>0.602740</td>\n",
       "      <td>0.217483</td>\n",
       "      <td>0.058514</td>\n",
       "      <td>0.050707</td>\n",
       "      <td>0.060914</td>\n",
       "      <td>0.254148</td>\n",
       "      <td>0.10965</td>\n",
       "      <td>0.295918</td>\n",
       "      <td>0.244372</td>\n",
       "      <td>0.190628</td>\n",
       "      <td>0.095691</td>\n",
       "    </tr>\n",
       "  </tbody>\n",
       "</table>\n",
       "</div>"
      ],
      "text/plain": [
       "            age  workclass    fnlwgt  education  occupation      race  \\\n",
       "27086  0.027397   0.097364  0.086803   0.078161    0.096895  0.121990   \n",
       "4773   0.369863   0.277454  0.010119   0.190502    0.115194  0.254148   \n",
       "19641  0.109589   0.217483  0.131461   0.069401    0.043412  0.254148   \n",
       "15545  0.493151   0.217483  0.167660   0.158418    0.261450  0.254148   \n",
       "32423  0.602740   0.217483  0.058514   0.050707    0.060914  0.254148   \n",
       "\n",
       "           sex  hours_per_week  native_country  net_capital_profit  \\\n",
       "27086  0.30311        0.295918        0.244372            0.190628   \n",
       "4773   0.30311        0.602041        0.244372            0.190628   \n",
       "19641  0.30311        0.234694        0.032258            0.190628   \n",
       "15545  0.10965        0.295918        0.244372            0.190628   \n",
       "32423  0.10965        0.295918        0.244372            0.190628   \n",
       "\n",
       "       relation_marital  \n",
       "27086          0.029396  \n",
       "4773           0.029396  \n",
       "19641          0.073330  \n",
       "15545          0.095691  \n",
       "32423          0.095691  "
      ]
     },
     "execution_count": 810,
     "metadata": {},
     "output_type": "execute_result"
    }
   ],
   "source": [
    "X_train.head()"
   ]
  },
  {
   "cell_type": "markdown",
   "metadata": {},
   "source": [
    "# Baseline Model + CV/Hyperparameter Tuning + Model Training"
   ]
  },
  {
   "cell_type": "markdown",
   "metadata": {},
   "source": [
    "Next Up, let's train a basic logistic regression and check its accuracy as a baseline."
   ]
  },
  {
   "cell_type": "code",
   "execution_count": 811,
   "metadata": {},
   "outputs": [],
   "source": [
    "lr = LogisticRegression(random_state=0).fit(X_train, y_train)"
   ]
  },
  {
   "cell_type": "code",
   "execution_count": 812,
   "metadata": {},
   "outputs": [],
   "source": [
    "lr_pred = lr.predict(X_test)"
   ]
  },
  {
   "cell_type": "markdown",
   "metadata": {},
   "source": [
    "The logistic regression results in a 84% accuracy, which is not bad considering our 76% baseline."
   ]
  },
  {
   "cell_type": "code",
   "execution_count": 813,
   "metadata": {},
   "outputs": [
    {
     "data": {
      "text/plain": [
       "84.1"
      ]
     },
     "execution_count": 813,
     "metadata": {},
     "output_type": "execute_result"
    }
   ],
   "source": [
    "round(accuracy_score(lr_pred, y_test), 3)*100"
   ]
  },
  {
   "cell_type": "markdown",
   "metadata": {},
   "source": [
    "But maybe with an XGBoost Classifier and some parameter tuning, we can improve this result"
   ]
  },
  {
   "cell_type": "code",
   "execution_count": 814,
   "metadata": {},
   "outputs": [],
   "source": [
    "params_xgb = {\"n_estimators\": [10,20,50,100],\n",
    "              \"max_depth\": list(range(1, 11)),\n",
    "              \"learning_rate\": [1e-3, 1e-2, 1e-1, 0.5, 1.],\n",
    "              \"subsample\": list(np.arange(0.05, 1.01, 0.05)),\n",
    "              \"min_child_weight\": list(range(1, 21)),\n",
    "              \"colsample_bytree\": list(np.arange(0.1,1,0.1)),\n",
    "              \"reg_lambda\": [1e-4, 1e-3, 1e-2, 1e-1, 0.5, 1., 5., 10., 15., 20., 25.],\n",
    "              \"reg_alpha\": [1e-4, 1e-3, 1e-2, 1e-1, 0.5, 1., 5., 10., 15., 20., 25.]\n",
    "\n",
    "              }"
   ]
  },
  {
   "cell_type": "code",
   "execution_count": 815,
   "metadata": {},
   "outputs": [],
   "source": [
    "xgb = XGBClassifier(eval_metric='logloss')\n",
    "acc = make_scorer(accuracy_score, greater_is_better=True)"
   ]
  },
  {
   "cell_type": "markdown",
   "metadata": {},
   "source": [
    "We use RepeatedStratifiedKFold to ensure that each fold has the same distribution of the target. \n",
    "\n",
    "To reduce the noise in the estimated model performance we increase the k-value. This will reduce the bias in the model’s estimated performance, although it will increase the variance: e.g. tie the result more to the specific dataset used in the evaluation.\n",
    "\n",
    "An alternate approach is to repeat the k-fold cross-validation process multiple times and report the mean performance across all folds and all repeats. This approach is generally referred to as repeated k-fold cross-validation."
   ]
  },
  {
   "cell_type": "code",
   "execution_count": 816,
   "metadata": {},
   "outputs": [],
   "source": [
    "rskf = RepeatedStratifiedKFold(n_splits=10, n_repeats=2, random_state=0)\n",
    "\n",
    "rscv = RandomizedSearchCV(xgb, \n",
    "                         param_distributions = params_xgb,\n",
    "                         cv = rskf,  \n",
    "                         n_iter = 50,\n",
    "                         scoring = acc, \n",
    "                         error_score = 0, \n",
    "                         verbose = 1, \n",
    "                         n_jobs = -1)"
   ]
  },
  {
   "cell_type": "code",
   "execution_count": null,
   "metadata": {},
   "outputs": [
    {
     "name": "stdout",
     "output_type": "stream",
     "text": [
      "Fitting 20 folds for each of 50 candidates, totalling 1000 fits\n"
     ]
    },
    {
     "name": "stderr",
     "output_type": "stream",
     "text": [
      "[Parallel(n_jobs=-1)]: Using backend LokyBackend with 16 concurrent workers.\n",
      "[Parallel(n_jobs=-1)]: Done  18 tasks      | elapsed:    5.2s\n",
      "[Parallel(n_jobs=-1)]: Done 168 tasks      | elapsed:   37.1s\n",
      "[Parallel(n_jobs=-1)]: Done 418 tasks      | elapsed:  1.9min\n",
      "[Parallel(n_jobs=-1)]: Done 768 tasks      | elapsed:  2.6min\n"
     ]
    }
   ],
   "source": [
    "rscv.fit(X_train, y_train)"
   ]
  },
  {
   "cell_type": "markdown",
   "metadata": {},
   "source": [
    "With these measures, we have achieved a 1% point increase in accuracy, at least as our mean CV accuracy. So, let us fit on the entire training data."
   ]
  },
  {
   "cell_type": "code",
   "execution_count": null,
   "metadata": {},
   "outputs": [],
   "source": [
    "print(\"Accuracy CV score xgb:\", round(rscv.best_score_*100, 1))"
   ]
  },
  {
   "cell_type": "code",
   "execution_count": 762,
   "metadata": {},
   "outputs": [
    {
     "name": "stderr",
     "output_type": "stream",
     "text": [
      "/usr/local/anaconda3/lib/python3.8/site-packages/xgboost/sklearn.py:1146: UserWarning: The use of label encoder in XGBClassifier is deprecated and will be removed in a future release. To remove this warning, do the following: 1) Pass option use_label_encoder=False when constructing XGBClassifier object; and 2) Encode your labels (y) as integers starting with 0, i.e. 0, 1, 2, ..., [num_class - 1].\n",
      "  warnings.warn(label_encoder_deprecation_msg, UserWarning)\n"
     ]
    },
    {
     "data": {
      "text/plain": [
       "XGBClassifier(base_score=0.5, booster='gbtree', colsample_bylevel=1,\n",
       "              colsample_bynode=1, colsample_bytree=0.7000000000000001,\n",
       "              eval_metric='logloss', gamma=0, gpu_id=-1, importance_type='gain',\n",
       "              interaction_constraints='', learning_rate=0.1, max_delta_step=0,\n",
       "              max_depth=8, min_child_weight=16, missing=nan,\n",
       "              monotone_constraints='()', n_estimators=100, n_jobs=16,\n",
       "              num_parallel_tree=1, random_state=0, reg_alpha=1.0,\n",
       "              reg_lambda=1.0, scale_pos_weight=1, subsample=0.6000000000000001,\n",
       "              tree_method='exact', validate_parameters=1, verbosity=None)"
      ]
     },
     "execution_count": 762,
     "metadata": {},
     "output_type": "execute_result"
    }
   ],
   "source": [
    "xgbc = rscv.best_estimator_\n",
    "xgbc.fit(X_train, y_train)"
   ]
  },
  {
   "cell_type": "markdown",
   "metadata": {},
   "source": [
    "# Prediction + Results"
   ]
  },
  {
   "cell_type": "code",
   "execution_count": 763,
   "metadata": {},
   "outputs": [
    {
     "name": "stderr",
     "output_type": "stream",
     "text": [
      "/usr/local/anaconda3/lib/python3.8/site-packages/xgboost/data.py:112: UserWarning: Use subset (sliced data) of np.ndarray is not recommended because it will generate extra copies and increase memory consumption\n",
      "  warnings.warn(\n"
     ]
    }
   ],
   "source": [
    "y_pred = xgbc.predict(X_test)"
   ]
  },
  {
   "cell_type": "markdown",
   "metadata": {},
   "source": [
    "Our prediction results show an overall high accuracy at 85.5%, which is even better than the mean CV accuracy and is a good sign with regards to overfitting.\n",
    "\n",
    "Interestingly, precision is much higher recall, indicating high false negatives, which dependent on the use case can be good or bad (false negatives for cancer detection would be a crime for example)"
   ]
  },
  {
   "cell_type": "code",
   "execution_count": 764,
   "metadata": {},
   "outputs": [
    {
     "name": "stdout",
     "output_type": "stream",
     "text": [
      "accuracy: 84.8\n",
      "matthews correlation coefficient: 0.56\n",
      "precision: 0.72\n",
      "recall: 0.61\n",
      "f1 score: 0.66\n"
     ]
    }
   ],
   "source": [
    "print('accuracy:',np.round(accuracy_score(y_test, y_pred), 3)*100)\n",
    "print('matthews correlation coefficient:',np.round(matthews_corrcoef(y_test, y_pred), 2))\n",
    "print('precision:',np.round(precision_score(y_test, y_pred), 2))\n",
    "print('recall:',np.round(recall_score(y_test, y_pred), 2))\n",
    "print('f1 score:',np.round(f1_score(y_test, y_pred), 2))"
   ]
  },
  {
   "cell_type": "markdown",
   "metadata": {},
   "source": [
    "Our confusion matrix confirms that we actually have more false negatives than false positives, which we should consider for future optimization purposes"
   ]
  },
  {
   "cell_type": "code",
   "execution_count": 765,
   "metadata": {},
   "outputs": [
    {
     "data": {
      "text/html": [
       "<div>\n",
       "<style scoped>\n",
       "    .dataframe tbody tr th:only-of-type {\n",
       "        vertical-align: middle;\n",
       "    }\n",
       "\n",
       "    .dataframe tbody tr th {\n",
       "        vertical-align: top;\n",
       "    }\n",
       "\n",
       "    .dataframe thead th {\n",
       "        text-align: right;\n",
       "    }\n",
       "</style>\n",
       "<table border=\"1\" class=\"dataframe\">\n",
       "  <thead>\n",
       "    <tr style=\"text-align: right;\">\n",
       "      <th>actual</th>\n",
       "      <th>0</th>\n",
       "      <th>1</th>\n",
       "    </tr>\n",
       "    <tr>\n",
       "      <th>predicted</th>\n",
       "      <th></th>\n",
       "      <th></th>\n",
       "    </tr>\n",
       "  </thead>\n",
       "  <tbody>\n",
       "    <tr>\n",
       "      <th>0</th>\n",
       "      <td>70.3</td>\n",
       "      <td>9.4</td>\n",
       "    </tr>\n",
       "    <tr>\n",
       "      <th>1</th>\n",
       "      <td>5.8</td>\n",
       "      <td>14.5</td>\n",
       "    </tr>\n",
       "  </tbody>\n",
       "</table>\n",
       "</div>"
      ],
      "text/plain": [
       "actual        0     1\n",
       "predicted            \n",
       "0          70.3   9.4\n",
       "1           5.8  14.5"
      ]
     },
     "execution_count": 765,
     "metadata": {},
     "output_type": "execute_result"
    }
   ],
   "source": [
    "round(pd.crosstab(y_pred, y_test, \n",
    "            rownames=['predicted'], \n",
    "            colnames=['actual'], margins=False, margins_name=\"Total\")/len(y_pred)*100,1)"
   ]
  },
  {
   "cell_type": "markdown",
   "metadata": {},
   "source": [
    "# Evaluation Analysis"
   ]
  },
  {
   "cell_type": "markdown",
   "metadata": {},
   "source": [
    "And last, let's look at the information gain or feature importance for our model, i.e. which feature contributes the most to the predictive power.\n",
    "\n",
    "We see that relationship/marital status has by far the biggest impact on model performance, followed by net capital profit"
   ]
  },
  {
   "cell_type": "code",
   "execution_count": 595,
   "metadata": {},
   "outputs": [
    {
     "data": {
      "text/plain": [
       "Text(0.5, 0, 'Income Classification Feature Importance')"
      ]
     },
     "execution_count": 595,
     "metadata": {},
     "output_type": "execute_result"
    },
    {
     "data": {
      "image/png": "[encoded data removed]",
      "text/plain": [
       "<Figure size 432x288 with 1 Axes>"
      ]
     },
     "metadata": {
      "needs_background": "light"
     },
     "output_type": "display_data"
    }
   ],
   "source": [
    "fi = xgbc.feature_importances_\n",
    "sorted_idx = fi.argsort()\n",
    "plt.barh(X_train.columns[sorted_idx], xgbc.feature_importances_[sorted_idx])\n",
    "plt.xlabel(\"Income Classification Feature Importance\")"
   ]
  },
  {
   "cell_type": "markdown",
   "metadata": {},
   "source": [
    "So, let's analyse these features just a bit, by showing the percentual occurence of a >50k income over relationship status and net capital profit.\n",
    "\n",
    "We see that married people have an almost 50% occurence of an income over 50k, while for the other groups it is just 10% or even less. So this is a huge predictor."
   ]
  },
  {
   "cell_type": "code",
   "execution_count": 784,
   "metadata": {},
   "outputs": [
    {
     "data": {
      "text/plain": [
       "relationship\n",
       " Wife              46.9\n",
       " Husband           44.9\n",
       " Not-in-family     10.1\n",
       " Unmarried          6.0\n",
       " Other-relative     3.5\n",
       " Own-child          1.5\n",
       "Name: income, dtype: float64"
      ]
     },
     "execution_count": 784,
     "metadata": {},
     "output_type": "execute_result"
    }
   ],
   "source": [
    "round(df.groupby('relationship', sort=True)['income'].mean().sort_values(ascending=False)*100,1)"
   ]
  },
  {
   "cell_type": "markdown",
   "metadata": {},
   "source": [
    "For the net capital profit, interestingly those who either have positive or negative capital profit have a 50% occurence of an income over 50k, while those with exactly 0 profit just have only have a 20% occurence of an 50+k income, which makes sense, because if you have little disposable income to spend on investments, you are less likely to invest and thus will not make or lose money."
   ]
  },
  {
   "cell_type": "code",
   "execution_count": 783,
   "metadata": {},
   "outputs": [
    {
     "data": {
      "text/plain": [
       "net_capital_profit\n",
       " 1    61.7\n",
       "-1    50.1\n",
       " 0    18.9\n",
       "Name: income, dtype: float64"
      ]
     },
     "execution_count": 783,
     "metadata": {},
     "output_type": "execute_result"
    }
   ],
   "source": [
    "round(df.groupby('net_capital_profit', sort=True)['income'].mean().sort_values(ascending=False)*100,1)"
   ]
  }
 ],
 "metadata": {
  "kernelspec": {
   "display_name": "Python 3",
   "language": "python",
   "name": "python3"
  },
  "language_info": {
   "codemirror_mode": {
    "name": "ipython",
    "version": 3
   },
   "file_extension": ".py",
   "mimetype": "text/x-python",
   "name": "python",
   "nbconvert_exporter": "python",
   "pygments_lexer": "ipython3",
   "version": "3.8.5"
  }
 },
 "nbformat": 4,
 "nbformat_minor": 4
}
